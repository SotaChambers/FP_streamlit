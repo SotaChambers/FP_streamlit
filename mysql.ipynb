{
 "metadata": {
  "language_info": {
   "codemirror_mode": {
    "name": "ipython",
    "version": 3
   },
   "file_extension": ".py",
   "mimetype": "text/x-python",
   "name": "python",
   "nbconvert_exporter": "python",
   "pygments_lexer": "ipython3",
   "version": "3.8.5"
  },
  "orig_nbformat": 2,
  "kernelspec": {
   "name": "python385jvsc74a57bd0023182ea748b77ccf7a478c4a4f5e78cf8f91a3bed817665590df2872b180f84",
   "display_name": "Python 3.8.5 64-bit ('base': conda)"
  }
 },
 "nbformat": 4,
 "nbformat_minor": 2,
 "cells": [
  {
   "cell_type": "code",
   "execution_count": 5,
   "metadata": {},
   "outputs": [],
   "source": [
    "import MySQLdb"
   ]
  },
  {
   "cell_type": "code",
   "execution_count": 16,
   "metadata": {},
   "outputs": [
    {
     "output_type": "stream",
     "name": "stdout",
     "text": [
      "(1, datetime.date(2020, 12, 1), '家賃', 130000, '家賃')\n(2, datetime.date(2020, 12, 1), '車', 8000, '駐車場代')\n(3, datetime.date(2020, 12, 1), '交通費', 74000, '定期代')\n(4, datetime.date(2020, 12, 1), '車', 400, '駐輪場代')\n(5, datetime.date(2020, 12, 1), '交通費', 2000, '駐輪場代(大宮駅)')\n(8, datetime.date(2020, 12, 1), '課金系', 1880, 'iTunes、iCloud')\n(9, datetime.date(2020, 12, 1), '食費', 500, '昼ごはん')\n(10, datetime.date(2020, 12, 2), '食費', 170, 'コンビニ珈琲')\n(11, datetime.date(2020, 12, 2), '日用品', 1670, '化粧品')\n(12, datetime.date(2020, 12, 3), 'その他', 3030, '須賀の誕プレ')\n(15, datetime.date(2020, 12, 5), '通信費', 2520, 'LINEモバイル')\n(16, datetime.date(2020, 12, 3), 'その他', 1000, '須賀とランチ')\n(18, datetime.date(2020, 12, 3), 'その他', 420, '須賀とスタバ')\n(19, datetime.date(2020, 12, 4), '食費', 170, 'コンビニ珈琲')\n(20, datetime.date(2020, 12, 4), '食費', 170, 'コンビニ珈琲')\n(21, datetime.date(2020, 12, 6), '交通費', 8000, 'チャージ')\n(22, datetime.date(2020, 12, 6), '収入', 5000, '絢子レッスン')\n(23, datetime.date(2020, 12, 6), '収入', 10000, '飯沼レッスン')\n(24, datetime.date(2020, 12, 6), '収入', 10000, 'アリソンレッスン')\n(25, datetime.date(2020, 12, 6), '交通費', 3200, '高速代')\n(26, datetime.date(2020, 12, 7), '医療費', 2070, 'ロバ')\n(27, datetime.date(2020, 12, 7), '医療費', 7720, '白山レディース')\n(28, datetime.date(2020, 12, 7), '食費', 320, 'お茶')\n(29, datetime.date(2020, 12, 7), '食費', 5160, 'ok')\n(30, datetime.date(2020, 12, 5), '日用品', 16790, 'IKEA')\n(31, datetime.date(2020, 12, 5), '食費', 2270, 'IKEA昼食')\n(32, datetime.date(2020, 12, 5), 'その他', 900, 'IKEAお土産')\n(33, datetime.date(2020, 12, 5), '車', 4070, 'ガソリン代')\n(34, datetime.date(2020, 12, 5), 'その他', 10670, 'ビームス')\n(35, datetime.date(2020, 12, 5), 'その他', 11440, 'ユナイテッドアローズ')\n(36, datetime.date(2020, 12, 3), '美容', 9800, '詩乃美容院')\n(37, datetime.date(2020, 12, 11), '交通費', 8000, 'チャージ')\n(38, datetime.date(2020, 12, 12), '食費', 1309, 'からやま')\n(39, datetime.date(2020, 12, 9), '食費', 1080, 'お菓子@ルミネ')\n(40, datetime.date(2020, 12, 9), '日用品', 660, 'マスク')\n(41, datetime.date(2020, 12, 11), '食費', 972, 'ケーキ')\n(42, datetime.date(2020, 12, 9), '食費', 849, '')\n(43, datetime.date(2020, 12, 11), '食費', 2112, '魚べい')\n(44, datetime.date(2020, 12, 11), '食費', 450, 'コメダ')\n(45, datetime.date(2020, 12, 11), '日用品', 2490, '無印')\n(46, datetime.date(2020, 12, 13), '食費', 600, 'お菓子')\n(47, datetime.date(2020, 12, 12), 'その他', 3800, '停車場')\n(48, datetime.date(2020, 12, 13), '医療費', 4440, '検査代')\n(49, datetime.date(2020, 12, 13), '食費', 550, '吉野家')\n(50, datetime.date(2020, 12, 14), 'その他', 920, 'すーちゃんとお茶')\n(51, datetime.date(2020, 12, 14), 'その他', 4440, 'ママンお歳暮')\n(52, datetime.date(2020, 12, 14), '食費', 3780, 'OK')\n(53, datetime.date(2020, 12, 14), '医療費', 1650, '白山レディース')\n(54, datetime.date(2020, 12, 16), '交通費', 8000, 'チャージ')\n(55, datetime.date(2020, 12, 10), '通信費', 2520, 'LINEモバイル')\n(56, datetime.date(2020, 12, 18), '食費', 900, 'ランチ')\n(57, datetime.date(2020, 12, 18), '食費', 900, 'ランチ')\n(58, datetime.date(2020, 12, 19), '食費', 275, 'ドトール')\n(59, datetime.date(2020, 12, 19), '美容', 2750, '美容室')\n(60, datetime.date(2020, 12, 19), '食費', 843, 'ダイエー')\n(61, datetime.date(2020, 12, 17), 'その他', 1580, '温泉')\n(62, datetime.date(2020, 12, 19), '光熱費', 6716, '水道代')\n(63, datetime.date(2020, 12, 19), '日用品', 1868, 'ダイソー')\n(64, datetime.date(2020, 12, 13), 'その他', 22360, 'お歳暮')\n(65, datetime.date(2020, 12, 22), '食費', 7118, 'OK')\n(66, datetime.date(2020, 12, 22), '食費', 2750, 'デニーズ')\n(67, datetime.date(2020, 12, 23), 'その他', 5600, 'ビールとか')\n(68, datetime.date(2020, 12, 23), '医療費', 2000, '白山レディース')\n(69, datetime.date(2020, 12, 25), '収入', 343000, '給料そそ')\n(70, datetime.date(2020, 12, 25), '食費', 660, 'ダイソー')\n(71, datetime.date(2020, 12, 25), '光熱費', 8141, 'ガス電気')\n(72, datetime.date(2020, 12, 26), 'その他', 1500, '野球')\n(73, datetime.date(2020, 12, 25), '食費', 2300, 'うお米')\n(74, datetime.date(2020, 12, 26), '食費', 770, 'コンビニ昼飯')\n(75, datetime.date(2020, 12, 27), '交通費', 5000, '高速代')\n(76, datetime.date(2020, 12, 27), 'その他', 3000, 'サミンズ忘年会')\n(77, datetime.date(2020, 12, 27), '車', 4700, 'ガソリン代')\n(78, datetime.date(2020, 12, 26), '食費', 770, 'コンビニ昼飯')\n(79, datetime.date(2020, 12, 26), '食費', 770, 'コンビニ昼飯')\n(80, datetime.date(2020, 12, 30), '食費', 1000, 'やぎめんと')\n(81, datetime.date(2020, 12, 30), 'その他', 1500, 'セッション')\n(82, datetime.date(2020, 12, 31), '食費', 980, 'コメダ')\n(83, datetime.date(2020, 12, 31), '食費', 4777, 'イトヨー')\n(90, datetime.date(2020, 12, 28), '医療費', 2000, '白山レディース')\n(91, datetime.date(2020, 12, 31), '日用品', 1090, 'GU')\n(92, datetime.date(2020, 12, 30), 'その他', 330, 'ダイソー')\n(93, datetime.date(2020, 12, 31), '日用品', 900, 'マツキヨ')\n(94, datetime.date(2020, 12, 31), '食費', 3810, 'マルエツ')\n(95, datetime.date(2021, 1, 29), '食費', 6610, 'みなや')\n(97, datetime.date(2020, 12, 27), 'その他', 2090, 'フライングタイガー')\n(98, datetime.date(2020, 12, 30), '食費', 850, 'サイゼ')\n(99, datetime.date(2020, 12, 29), '交通費', 8000, 'チャージ')\n"
     ]
    },
    {
     "output_type": "execute_result",
     "data": {
      "text/plain": [
       "<function Connection.close>"
      ]
     },
     "metadata": {},
     "execution_count": 16
    }
   ],
   "source": [
    "# 接続する\n",
    "conn = MySQLdb.connect(\n",
    "    unix_socket = '/Applications/MAMP/tmp/mysql/mysql.sock',\n",
    "    user='sota',\n",
    "    passwd='1993Vivahelium',\n",
    "    host='localhost',\n",
    "    db='kakeibo',\n",
    "    #use_unicodeはなくても日本語取り出せた\n",
    "    use_unicode=True,\n",
    "    charset=\"utf8\")\n",
    "cur = conn.cursor()\n",
    "sql = \"SELECT * FROM december_2020\"\n",
    "cur.execute(sql)\n",
    "rows = cur.fetchall()\n",
    "for row in rows:\n",
    "    print(row)\n",
    "\n",
    "# 接続を閉じる\n",
    "cur.close\n",
    "conn.close"
   ]
  },
  {
   "cell_type": "code",
   "execution_count": 17,
   "metadata": {},
   "outputs": [
    {
     "output_type": "error",
     "ename": "OperationalError",
     "evalue": "(2003, \"Can't connect to MySQL server on 'mysql1.php.xdomain.ne.jp' (60)\")",
     "traceback": [
      "\u001b[0;31m---------------------------------------------------------------------------\u001b[0m",
      "\u001b[0;31mOperationalError\u001b[0m                          Traceback (most recent call last)",
      "\u001b[0;32m<ipython-input-17-e810a8257689>\u001b[0m in \u001b[0;36m<module>\u001b[0;34m\u001b[0m\n\u001b[1;32m      1\u001b[0m \u001b[0;31m# 接続する\u001b[0m\u001b[0;34m\u001b[0m\u001b[0;34m\u001b[0m\u001b[0;34m\u001b[0m\u001b[0m\n\u001b[0;32m----> 2\u001b[0;31m conn = MySQLdb.connect(\n\u001b[0m\u001b[1;32m      3\u001b[0m     \u001b[0;31m# unix_socket = '/Applications/MAMP/tmp/mysql/mysql.sock',\u001b[0m\u001b[0;34m\u001b[0m\u001b[0;34m\u001b[0m\u001b[0;34m\u001b[0m\u001b[0m\n\u001b[1;32m      4\u001b[0m     \u001b[0muser\u001b[0m\u001b[0;34m=\u001b[0m\u001b[0;34m'sukakeibo_user'\u001b[0m\u001b[0;34m,\u001b[0m\u001b[0;34m\u001b[0m\u001b[0;34m\u001b[0m\u001b[0m\n\u001b[1;32m      5\u001b[0m     \u001b[0mpasswd\u001b[0m\u001b[0;34m=\u001b[0m\u001b[0;34m'1993Vivahelium'\u001b[0m\u001b[0;34m,\u001b[0m\u001b[0;34m\u001b[0m\u001b[0;34m\u001b[0m\u001b[0m\n",
      "\u001b[0;32m~/opt/anaconda3/lib/python3.8/site-packages/MySQLdb/__init__.py\u001b[0m in \u001b[0;36mConnect\u001b[0;34m(*args, **kwargs)\u001b[0m\n\u001b[1;32m    128\u001b[0m     \u001b[0;32mfrom\u001b[0m \u001b[0mMySQLdb\u001b[0m\u001b[0;34m.\u001b[0m\u001b[0mconnections\u001b[0m \u001b[0;32mimport\u001b[0m \u001b[0mConnection\u001b[0m\u001b[0;34m\u001b[0m\u001b[0;34m\u001b[0m\u001b[0m\n\u001b[1;32m    129\u001b[0m \u001b[0;34m\u001b[0m\u001b[0m\n\u001b[0;32m--> 130\u001b[0;31m     \u001b[0;32mreturn\u001b[0m \u001b[0mConnection\u001b[0m\u001b[0;34m(\u001b[0m\u001b[0;34m*\u001b[0m\u001b[0margs\u001b[0m\u001b[0;34m,\u001b[0m \u001b[0;34m**\u001b[0m\u001b[0mkwargs\u001b[0m\u001b[0;34m)\u001b[0m\u001b[0;34m\u001b[0m\u001b[0;34m\u001b[0m\u001b[0m\n\u001b[0m\u001b[1;32m    131\u001b[0m \u001b[0;34m\u001b[0m\u001b[0m\n\u001b[1;32m    132\u001b[0m \u001b[0;34m\u001b[0m\u001b[0m\n",
      "\u001b[0;32m~/opt/anaconda3/lib/python3.8/site-packages/MySQLdb/connections.py\u001b[0m in \u001b[0;36m__init__\u001b[0;34m(self, *args, **kwargs)\u001b[0m\n\u001b[1;32m    183\u001b[0m         \u001b[0mautocommit\u001b[0m \u001b[0;34m=\u001b[0m \u001b[0mkwargs2\u001b[0m\u001b[0;34m.\u001b[0m\u001b[0mpop\u001b[0m\u001b[0;34m(\u001b[0m\u001b[0;34m\"autocommit\"\u001b[0m\u001b[0;34m,\u001b[0m \u001b[0;32mFalse\u001b[0m\u001b[0;34m)\u001b[0m\u001b[0;34m\u001b[0m\u001b[0;34m\u001b[0m\u001b[0m\n\u001b[1;32m    184\u001b[0m \u001b[0;34m\u001b[0m\u001b[0m\n\u001b[0;32m--> 185\u001b[0;31m         \u001b[0msuper\u001b[0m\u001b[0;34m(\u001b[0m\u001b[0;34m)\u001b[0m\u001b[0;34m.\u001b[0m\u001b[0m__init__\u001b[0m\u001b[0;34m(\u001b[0m\u001b[0;34m*\u001b[0m\u001b[0margs\u001b[0m\u001b[0;34m,\u001b[0m \u001b[0;34m**\u001b[0m\u001b[0mkwargs2\u001b[0m\u001b[0;34m)\u001b[0m\u001b[0;34m\u001b[0m\u001b[0;34m\u001b[0m\u001b[0m\n\u001b[0m\u001b[1;32m    186\u001b[0m         \u001b[0mself\u001b[0m\u001b[0;34m.\u001b[0m\u001b[0mcursorclass\u001b[0m \u001b[0;34m=\u001b[0m \u001b[0mcursorclass\u001b[0m\u001b[0;34m\u001b[0m\u001b[0;34m\u001b[0m\u001b[0m\n\u001b[1;32m    187\u001b[0m         \u001b[0mself\u001b[0m\u001b[0;34m.\u001b[0m\u001b[0mencoders\u001b[0m \u001b[0;34m=\u001b[0m \u001b[0;34m{\u001b[0m\u001b[0mk\u001b[0m\u001b[0;34m:\u001b[0m \u001b[0mv\u001b[0m \u001b[0;32mfor\u001b[0m \u001b[0mk\u001b[0m\u001b[0;34m,\u001b[0m \u001b[0mv\u001b[0m \u001b[0;32min\u001b[0m \u001b[0mconv\u001b[0m\u001b[0;34m.\u001b[0m\u001b[0mitems\u001b[0m\u001b[0;34m(\u001b[0m\u001b[0;34m)\u001b[0m \u001b[0;32mif\u001b[0m \u001b[0mtype\u001b[0m\u001b[0;34m(\u001b[0m\u001b[0mk\u001b[0m\u001b[0;34m)\u001b[0m \u001b[0;32mis\u001b[0m \u001b[0;32mnot\u001b[0m \u001b[0mint\u001b[0m\u001b[0;34m}\u001b[0m\u001b[0;34m\u001b[0m\u001b[0;34m\u001b[0m\u001b[0m\n",
      "\u001b[0;31mOperationalError\u001b[0m: (2003, \"Can't connect to MySQL server on 'mysql1.php.xdomain.ne.jp' (60)\")"
     ]
    }
   ],
   "source": [
    "# 接続する\n",
    "conn = MySQLdb.connect(\n",
    "    # unix_socket = '/Applications/MAMP/tmp/mysql/mysql.sock',\n",
    "    user='sukakeibo_user',\n",
    "    passwd='1993Vivahelium',\n",
    "    host='mysql1.php.xdomain.ne.jp',\n",
    "    db='sukakeibo_app',\n",
    "    #use_unicodeはなくても日本語取り出せた\n",
    "    use_unicode=True,\n",
    "    charset=\"utf8\")\n",
    "cur = conn.cursor()\n",
    "sql = \"SELECT * FROM december_2020\"\n",
    "cur.execute(sql)\n",
    "rows = cur.fetchall()\n",
    "for row in rows:\n",
    "    print(row)\n",
    "\n",
    "# 接続を閉じる\n",
    "cur.close\n",
    "conn.close"
   ]
  },
  {
   "cell_type": "code",
   "execution_count": null,
   "metadata": {},
   "outputs": [],
   "source": []
  }
 ]
}