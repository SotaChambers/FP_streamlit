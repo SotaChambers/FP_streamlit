{
 "metadata": {
  "language_info": {
   "codemirror_mode": {
    "name": "ipython",
    "version": 3
   },
   "file_extension": ".py",
   "mimetype": "text/x-python",
   "name": "python",
   "nbconvert_exporter": "python",
   "pygments_lexer": "ipython3",
   "version": "3.8.5"
  },
  "orig_nbformat": 2,
  "kernelspec": {
   "name": "python385jvsc74a57bd0023182ea748b77ccf7a478c4a4f5e78cf8f91a3bed817665590df2872b180f84",
   "display_name": "Python 3.8.5 64-bit ('base': conda)"
  }
 },
 "nbformat": 4,
 "nbformat_minor": 2,
 "cells": [
  {
   "cell_type": "code",
   "execution_count": 50,
   "metadata": {},
   "outputs": [],
   "source": [
    "import pandas as pd\n",
    "import numpy as np\n",
    "import matplotlib.pyplot as plt\n",
    "import seaborn as sns\n",
    "from glob import glob\n",
    "import datetime"
   ]
  },
  {
   "cell_type": "code",
   "execution_count": 71,
   "metadata": {},
   "outputs": [],
   "source": [
    "dflist = sorted(glob('./data/*.csv'), reverse=False)\n",
    "df = pd.DataFrame()"
   ]
  },
  {
   "cell_type": "code",
   "execution_count": 72,
   "metadata": {},
   "outputs": [],
   "source": [
    "for i in dflist:\n",
    "    data = pd.read_csv(i, header=None)\n",
    "    df = df.append(data)\n",
    "df.columns = ['id', 'date', 'category', 'price', 'comment']"
   ]
  },
  {
   "cell_type": "code",
   "execution_count": 73,
   "metadata": {},
   "outputs": [
    {
     "output_type": "execute_result",
     "data": {
      "text/plain": [
       "   id       date category  price  comment\n",
       "0  20  2020/11/7        車   3000     免許更新\n",
       "1  19  2020/11/6      医療費   6120  白山レディース\n",
       "2  18  2020/11/6       食費   1960    ルミネ弁当\n",
       "3  17  2020/11/6      交通費   8000     チャージ\n",
       "4  16  2020/11/4      日用品   2980     ダイソー"
      ],
      "text/html": "<div>\n<style scoped>\n    .dataframe tbody tr th:only-of-type {\n        vertical-align: middle;\n    }\n\n    .dataframe tbody tr th {\n        vertical-align: top;\n    }\n\n    .dataframe thead th {\n        text-align: right;\n    }\n</style>\n<table border=\"1\" class=\"dataframe\">\n  <thead>\n    <tr style=\"text-align: right;\">\n      <th></th>\n      <th>id</th>\n      <th>date</th>\n      <th>category</th>\n      <th>price</th>\n      <th>comment</th>\n    </tr>\n  </thead>\n  <tbody>\n    <tr>\n      <th>0</th>\n      <td>20</td>\n      <td>2020/11/7</td>\n      <td>車</td>\n      <td>3000</td>\n      <td>免許更新</td>\n    </tr>\n    <tr>\n      <th>1</th>\n      <td>19</td>\n      <td>2020/11/6</td>\n      <td>医療費</td>\n      <td>6120</td>\n      <td>白山レディース</td>\n    </tr>\n    <tr>\n      <th>2</th>\n      <td>18</td>\n      <td>2020/11/6</td>\n      <td>食費</td>\n      <td>1960</td>\n      <td>ルミネ弁当</td>\n    </tr>\n    <tr>\n      <th>3</th>\n      <td>17</td>\n      <td>2020/11/6</td>\n      <td>交通費</td>\n      <td>8000</td>\n      <td>チャージ</td>\n    </tr>\n    <tr>\n      <th>4</th>\n      <td>16</td>\n      <td>2020/11/4</td>\n      <td>日用品</td>\n      <td>2980</td>\n      <td>ダイソー</td>\n    </tr>\n  </tbody>\n</table>\n</div>"
     },
     "metadata": {},
     "execution_count": 73
    }
   ],
   "source": [
    "df.head()"
   ]
  },
  {
   "cell_type": "code",
   "execution_count": 76,
   "metadata": {},
   "outputs": [],
   "source": [
    "sum = df.groupby('category').sum()"
   ]
  },
  {
   "cell_type": "code",
   "execution_count": 79,
   "metadata": {},
   "outputs": [],
   "source": [
    "mean = sum['price']/6"
   ]
  },
  {
   "cell_type": "code",
   "execution_count": 80,
   "metadata": {},
   "outputs": [
    {
     "output_type": "execute_result",
     "data": {
      "text/plain": [
       "category\n",
       "うさぎ     14868.000000\n",
       "その他     55375.333333\n",
       "交通費    104776.666667\n",
       "光熱費     15032.000000\n",
       "医療費     22835.000000\n",
       "収入     365305.500000\n",
       "家賃     130000.000000\n",
       "日用品     11368.833333\n",
       "美容       7141.666667\n",
       "課金系      3207.000000\n",
       "車       14413.500000\n",
       "通信費      2595.333333\n",
       "食費      51967.333333\n",
       "Name: price, dtype: float64"
      ]
     },
     "metadata": {},
     "execution_count": 80
    }
   ],
   "source": [
    "mean"
   ]
  },
  {
   "cell_type": "code",
   "execution_count": 83,
   "metadata": {},
   "outputs": [
    {
     "output_type": "execute_result",
     "data": {
      "text/plain": [
       "307580.6666666667"
      ]
     },
     "metadata": {},
     "execution_count": 83
    }
   ],
   "source": [
    "mean[0] + mean[1] + (mean[2] -74000 ) +mean[3] + mean[4] + (mean[6]-52000) + mean[7] + mean[8] + mean[9] + mean[10] + mean[11] + mean[12]"
   ]
  },
  {
   "cell_type": "code",
   "execution_count": 84,
   "metadata": {},
   "outputs": [
    {
     "output_type": "execute_result",
     "data": {
      "text/plain": [
       "198804.00000000003"
      ]
     },
     "metadata": {},
     "execution_count": 84
    }
   ],
   "source": [
    "mean[0] + mean[1] + mean[3] + mean[4]  + mean[7] + mean[8] + mean[9] + mean[10] + mean[11] + mean[12]"
   ]
  },
  {
   "cell_type": "code",
   "execution_count": 64,
   "metadata": {},
   "outputs": [
    {
     "output_type": "stream",
     "name": "stdout",
     "text": [
      "2020-11-06 00:00:00\n"
     ]
    }
   ],
   "source": [
    "print(pd.to_datetime(df_november_2020['date'][1], format='%Y-%m-%d'))"
   ]
  },
  {
   "cell_type": "code",
   "execution_count": null,
   "metadata": {},
   "outputs": [],
   "source": []
  }
 ]
}